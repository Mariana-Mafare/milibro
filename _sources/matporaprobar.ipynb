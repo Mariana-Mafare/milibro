{
 "cells": [
  {
   "cell_type": "markdown",
   "id": "28e545e5",
   "metadata": {},
   "source": [
    "# MATERIAS POR APROBAR\n",
    "\n",
    "SEMESTRE 6\n",
    "\n",
    ":::\n",
    "Redes de Dispositivos\n",
    "Planificación Estratégica y Sistemas de Calidad Empresarial\n",
    "Metodologías de Desarrollo\n",
    "Gestión de la Calidad del Software\n",
    "Ingeniería de Requisitos\n",
    "Itinerario: Desarrollo Basado en Plataformas Web\n",
    ":::\n",
    "SEMESTRE 7\n",
    "\n",
    ":::\n",
    "Arquitectura de Redes\n",
    "Arquitectura de Software\n",
    "Prácticum III: Servicio Comunitario\n",
    "Arquitectura Empresarial\n",
    "Gestión de Proyectos\n",
    "Itinerario: Desarrollo basado en Plataformas Móviles\n",
    ":::\n",
    "SEMESTRE 8\n",
    "\n",
    ":::\n",
    "Fundamentos y Aplicación de Seguridad de la Información\n",
    "Sistemas Distribuidos\n",
    "Aplicación de Matemáticas y Estadística en Tecnologías de la Información\n",
    "Organización y Administración de Infraestructura de Tecnologías de la Información\n",
    "Prácticum 4.1\n",
    "Itinerario: Programación Integrativa\n",
    ":::\n",
    "SEMESTRE 9\n",
    "\n",
    ":::\n",
    "Gobernanza de Tecnologías de la Información\n",
    "Evaluación de la Seguridad en Sistemas de Tecnologías de la Información\n",
    "Proyectos de Tecnologías de la Información\n",
    "Emprendimiento\n",
    "Prácticum 4.2\n",
    "Composición de Textos Científicos\n",
    ":::"
   ]
  }
 ],
 "metadata": {
  "jupytext": {
   "cell_metadata_filter": "-all",
   "formats": "md:myst",
   "text_representation": {
    "extension": ".md",
    "format_name": "myst",
    "format_version": 0.13,
    "jupytext_version": "1.11.5"
   }
  },
  "kernelspec": {
   "display_name": "Python 3",
   "language": "python",
   "name": "python3"
  },
  "language_info": {
   "codemirror_mode": {
    "name": "ipython",
    "version": 3
   },
   "file_extension": ".py",
   "mimetype": "text/x-python",
   "name": "python",
   "nbconvert_exporter": "python",
   "pygments_lexer": "ipython3",
   "version": "3.10.4"
  },
  "source_map": [
   14
  ]
 },
 "nbformat": 4,
 "nbformat_minor": 5
}